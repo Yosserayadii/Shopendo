{
 "cells": [
  {
   "cell_type": "code",
   "execution_count": 1,
   "id": "c2e5857c",
   "metadata": {},
   "outputs": [],
   "source": [
    "import numpy as np\n",
    "import pandas as pd\n",
    "import os\n",
    "import tensorflow as tf\n",
    "from tensorflow.keras.preprocessing.image import ImageDataGenerator, load_img, img_to_array\n",
    "from tensorflow.keras.applications import VGG16\n",
    "from sklearn.decomposition import PCA\n",
    "from sklearn.neighbors import KNeighborsClassifier\n",
    "from sklearn.metrics import accuracy_score, precision_score, recall_score, f1_score\n",
    "import random"
   ]
  },
  {
   "cell_type": "code",
   "execution_count": 2,
   "id": "d243931c",
   "metadata": {},
   "outputs": [],
   "source": [
    "# Set seed for reproducibility\n",
    "random.seed(42)\n",
    "tf.random.set_seed(42)\n",
    "np.random.seed(42)"
   ]
  },
  {
   "cell_type": "code",
   "execution_count": 6,
   "id": "baeb9b62",
   "metadata": {},
   "outputs": [
    {
     "ename": "SyntaxError",
     "evalue": "invalid non-printable character U+200B (543259443.py, line 10)",
     "output_type": "error",
     "traceback": [
      "\u001b[1;36m  Cell \u001b[1;32mIn[6], line 10\u001b[1;36m\u001b[0m\n\u001b[1;33m    ​\u001b[0m\n\u001b[1;37m    ^\u001b[0m\n\u001b[1;31mSyntaxError\u001b[0m\u001b[1;31m:\u001b[0m invalid non-printable character U+200B\n"
     ]
    }
   ],
   "source": [
    "images_df = pd.read_csv(\"images.csv\")\n",
    "styles_df = pd.read_csv(\"styles.csv\", on_bad_lines='skip')\n",
    "images_df['id'] = images_df['filename'].apply(lambda x: x.replace(\".jpg\",\"\")).astype(int)\n",
    "data = styles_df.merge(images_df,on='id',how='left').reset_index(drop=True)\n",
    "data['filename'] = data['filename'].apply(lambda x: os.path.join(\"images\",x))\n",
    "image_files = os.listdir(\"images\")\n",
    "data['file_found'] = data['id'].apply(lambda x: f\"{x}.jpg\" in image_files)\n",
    "data = data[data['file_found']].reset_index(drop=True)\n",
    "data.drop(columns=['productDisplayName','link','file_found'],inplace=True)\n",
    "​\n",
    "data = data.reset_index(drop=True)\n",
    "n = len(data)\n",
    "train = data.iloc[:int(n*0.8),:]\n",
    "val = data.iloc[int(n*0.8):,:].reset_index(drop=True)\n",
    "​"
   ]
  },
  {
   "cell_type": "code",
   "execution_count": 7,
   "id": "620f2f4d",
   "metadata": {},
   "outputs": [
    {
     "ename": "NameError",
     "evalue": "name 'data' is not defined",
     "output_type": "error",
     "traceback": [
      "\u001b[1;31m---------------------------------------------------------------------------\u001b[0m",
      "\u001b[1;31mNameError\u001b[0m                                 Traceback (most recent call last)",
      "Cell \u001b[1;32mIn[7], line 3\u001b[0m\n\u001b[0;32m      1\u001b[0m \u001b[38;5;66;03m# Data preprocessing\u001b[39;00m\n\u001b[0;32m      2\u001b[0m train_ratio \u001b[38;5;241m=\u001b[39m \u001b[38;5;241m0.8\u001b[39m\n\u001b[1;32m----> 3\u001b[0m train_samples \u001b[38;5;241m=\u001b[39m \u001b[38;5;28mint\u001b[39m(\u001b[38;5;28mlen\u001b[39m(\u001b[43mdata\u001b[49m) \u001b[38;5;241m*\u001b[39m train_ratio)\n\u001b[0;32m      4\u001b[0m train_data \u001b[38;5;241m=\u001b[39m data\u001b[38;5;241m.\u001b[39miloc[:train_samples]\n\u001b[0;32m      5\u001b[0m val_data \u001b[38;5;241m=\u001b[39m data\u001b[38;5;241m.\u001b[39miloc[train_samples:]\u001b[38;5;241m.\u001b[39mreset_index(drop\u001b[38;5;241m=\u001b[39m\u001b[38;5;28;01mTrue\u001b[39;00m)\n",
      "\u001b[1;31mNameError\u001b[0m: name 'data' is not defined"
     ]
    }
   ],
   "source": [
    "# Data preprocessing\n",
    "train_ratio = 0.8\n",
    "train_samples = int(len(data) * train_ratio)\n",
    "train_data = data.iloc[:train_samples]\n",
    "val_data = data.iloc[train_samples:].reset_index(drop=True)\n"
   ]
  },
  {
   "cell_type": "code",
   "execution_count": null,
   "id": "5948ef2b",
   "metadata": {},
   "outputs": [],
   "source": [
    "train_datagen = ImageDataGenerator(\n",
    "    rescale=1./255,\n",
    "    shear_range=0.2,\n",
    "    zoom_range=0.2,\n",
    "    horizontal_flip=True\n",
    ")\n",
    "val_datagen = ImageDataGenerator(rescale=1./255)\n"
   ]
  },
  {
   "cell_type": "code",
   "execution_count": null,
   "id": "2cff07a7",
   "metadata": {},
   "outputs": [],
   "source": [
    "train_generator = train_datagen.flow_from_dataframe(\n",
    "    train_data,\n",
    "    target_size=(256, 256),\n",
    "    x_col='filename',\n",
    "    y_col='id',\n",
    "    class_mode='raw',\n",
    "    batch_size=32,\n",
    "    shuffle=True\n",
    ")"
   ]
  },
  {
   "cell_type": "code",
   "execution_count": null,
   "id": "5785454c",
   "metadata": {},
   "outputs": [],
   "source": [
    "val_generator = val_datagen.flow_from_dataframe(\n",
    "    val_data,\n",
    "    target_size=(256, 256),\n",
    "    x_col='filename',\n",
    "    y_col='id',\n",
    "    class_mode='raw',\n",
    "    batch_size=32,\n",
    "    shuffle=False\n",
    ")\n"
   ]
  },
  {
   "cell_type": "code",
   "execution_count": null,
   "id": "f881f371",
   "metadata": {},
   "outputs": [],
   "source": [
    "# Load VGG16 model\n",
    "base_model = VGG16(weights='imagenet', include_top=False, input_shape=(256, 256, 3))\n"
   ]
  },
  {
   "cell_type": "code",
   "execution_count": null,
   "id": "cc471a28",
   "metadata": {},
   "outputs": [],
   "source": [
    "# Extract features\n",
    "train_features = base_model.predict(train_generator, verbose=1)\n",
    "val_features = base_model.predict(val_generator, verbose=1)\n"
   ]
  },
  {
   "cell_type": "code",
   "execution_count": null,
   "id": "73387c33",
   "metadata": {},
   "outputs": [],
   "source": []
  },
  {
   "cell_type": "code",
   "execution_count": null,
   "id": "e0f0560c",
   "metadata": {},
   "outputs": [],
   "source": []
  }
 ],
 "metadata": {
  "kernelspec": {
   "display_name": "Python 3 (ipykernel)",
   "language": "python",
   "name": "python3"
  },
  "language_info": {
   "codemirror_mode": {
    "name": "ipython",
    "version": 3
   },
   "file_extension": ".py",
   "mimetype": "text/x-python",
   "name": "python",
   "nbconvert_exporter": "python",
   "pygments_lexer": "ipython3",
   "version": "3.11.2"
  }
 },
 "nbformat": 4,
 "nbformat_minor": 5
}
